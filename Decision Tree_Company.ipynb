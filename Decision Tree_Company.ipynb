{
 "cells": [
  {
   "cell_type": "code",
   "execution_count": 2,
   "id": "f43d2a9b",
   "metadata": {},
   "outputs": [],
   "source": [
    "import pandas as pd\n",
    "import numpy as np\n",
    "from sklearn.preprocessing import LabelEncoder\n",
    "import matplotlib.pyplot as plt \n",
    "df = pd.read_csv('salaries.csv')\n",
    "x = df.drop(\"salary_more_then_100k\",axis=1)\n",
    "y = df[\"salary_more_then_100k\"]\n",
    "le = LabelEncoder()\n",
    "x['n_company'] = le.fit_transform(x['company'])\n",
    "x['n_job'] = le.fit_transform(x['job'])\n",
    "x['n_degree'] = le.fit_transform(x['degree'])\n",
    "x = x.drop([\"company\",\"job\",\"degree\"],axis=1)\n"
   ]
  },
  {
   "cell_type": "code",
   "execution_count": 7,
   "id": "1bbdb358",
   "metadata": {},
   "outputs": [
    {
     "name": "stderr",
     "output_type": "stream",
     "text": [
      "C:\\Users\\Sudip\\AppData\\Local\\Programs\\Python\\Python312\\Lib\\site-packages\\sklearn\\base.py:493: UserWarning: X does not have valid feature names, but DecisionTreeClassifier was fitted with feature names\n",
      "  warnings.warn(\n"
     ]
    },
    {
     "data": {
      "text/plain": [
       "array([0], dtype=int64)"
      ]
     },
     "execution_count": 7,
     "metadata": {},
     "output_type": "execute_result"
    }
   ],
   "source": [
    "from sklearn.tree import DecisionTreeClassifier\n",
    "model = DecisionTreeClassifier()\n",
    "features = ['n_company','n_job','n_degree']\n",
    "# features = ['n_company','n_job']\n",
    "model.fit(x,y)\n",
    "model.score(x,y)\n",
    "model.predict([[2,1,0]])\n"
   ]
  },
  {
   "cell_type": "code",
   "execution_count": 4,
   "id": "90e88867",
   "metadata": {},
   "outputs": [
    {
     "ename": "NameError",
     "evalue": "name 'tree' is not defined",
     "output_type": "error",
     "traceback": [
      "\u001b[1;31m---------------------------------------------------------------------------\u001b[0m",
      "\u001b[1;31mNameError\u001b[0m                                 Traceback (most recent call last)",
      "Cell \u001b[1;32mIn[4], line 1\u001b[0m\n\u001b[1;32m----> 1\u001b[0m \u001b[43mtree\u001b[49m\u001b[38;5;241m.\u001b[39mplot_tree(model,feature_names \u001b[38;5;241m=\u001b[39m features)\n\u001b[0;32m      2\u001b[0m \u001b[38;5;66;03m# x.hist() \u001b[39;00m\n",
      "\u001b[1;31mNameError\u001b[0m: name 'tree' is not defined"
     ]
    }
   ],
   "source": [
    "# tree.plot_tree(model,feature_names = features)\n",
    "# # x.hist() "
   ]
  },
  {
   "cell_type": "code",
   "execution_count": null,
   "id": "cbd948b9",
   "metadata": {},
   "outputs": [],
   "source": []
  }
 ],
 "metadata": {
  "kernelspec": {
   "display_name": "Python 3 (ipykernel)",
   "language": "python",
   "name": "python3"
  },
  "language_info": {
   "codemirror_mode": {
    "name": "ipython",
    "version": 3
   },
   "file_extension": ".py",
   "mimetype": "text/x-python",
   "name": "python",
   "nbconvert_exporter": "python",
   "pygments_lexer": "ipython3",
   "version": "3.12.1"
  }
 },
 "nbformat": 4,
 "nbformat_minor": 5
}
